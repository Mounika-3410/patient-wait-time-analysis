{
 "cells": [
  {
   "cell_type": "markdown",
   "id": "beeb181c",
   "metadata": {},
   "source": [
    "# 🏥 Patient Wait Time Analysis\n",
    "This notebook analyzes emergency department (ED) wait times across hospitals."
   ]
  },
  {
   "cell_type": "code",
   "execution_count": null,
   "id": "eb037018",
   "metadata": {},
   "outputs": [],
   "source": [
    "import pandas as pd\n",
    "import matplotlib.pyplot as plt\n",
    "import seaborn as sns\n",
    "\n",
    "# Load dataset\n",
    "df = pd.read_csv('../data/hospital_timely_data.csv')\n",
    "df.head()"
   ]
  },
  {
   "cell_type": "markdown",
   "id": "5126d781",
   "metadata": {},
   "source": [
    "## 🔍 Filter Relevant Measure (ED1b)"
   ]
  },
  {
   "cell_type": "code",
   "execution_count": null,
   "id": "e0c2f6c1",
   "metadata": {},
   "outputs": [],
   "source": [
    "df_ed = df[df['Measure ID'] == 'ED1b'].copy()\n",
    "df_ed.sort_values(by='Score', ascending=False, inplace=True)\n",
    "df_ed[['Hospital Name', 'Score']].head()"
   ]
  },
  {
   "cell_type": "markdown",
   "id": "1dd7deb1",
   "metadata": {},
   "source": [
    "## 📊 Visualize Top 10 Hospitals with Longest Wait Time"
   ]
  },
  {
   "cell_type": "code",
   "execution_count": null,
   "id": "becc2219",
   "metadata": {},
   "outputs": [],
   "source": [
    "plt.figure(figsize=(10,6))\n",
    "sns.barplot(x='Score', y='Hospital Name', data=df_ed.head(10), palette='Reds_r')\n",
    "plt.title('Top 10 Hospitals by ED Wait Time')\n",
    "plt.xlabel('Wait Time (minutes)')\n",
    "plt.ylabel('Hospital')\n",
    "plt.tight_layout()\n",
    "plt.savefig('../charts/wait_time_trends.png')\n",
    "plt.show()"
   ]
  }
 ],
 "metadata": {},
 "nbformat": 4,
 "nbformat_minor": 5
}